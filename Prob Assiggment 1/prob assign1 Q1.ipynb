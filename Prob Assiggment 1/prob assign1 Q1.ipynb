{
 "cells": [
  {
   "cell_type": "code",
   "execution_count": 1,
   "metadata": {},
   "outputs": [
    {
     "data": {
      "text/html": [
       "<div>\n",
       "<style scoped>\n",
       "    .dataframe tbody tr th:only-of-type {\n",
       "        vertical-align: middle;\n",
       "    }\n",
       "\n",
       "    .dataframe tbody tr th {\n",
       "        vertical-align: top;\n",
       "    }\n",
       "\n",
       "    .dataframe thead th {\n",
       "        text-align: right;\n",
       "    }\n",
       "</style>\n",
       "<table border=\"1\" class=\"dataframe\">\n",
       "  <thead>\n",
       "    <tr style=\"text-align: right;\">\n",
       "      <th></th>\n",
       "      <th>ID</th>\n",
       "      <th>Age</th>\n",
       "      <th>Gender</th>\n",
       "      <th>Department</th>\n",
       "      <th>Salary ($)</th>\n",
       "      <th>Experience (Years)</th>\n",
       "      <th>Work Hours/Week</th>\n",
       "      <th>Projects Completed</th>\n",
       "      <th>Job Satisfaction (1-10)</th>\n",
       "      <th>Training Hours</th>\n",
       "      <th>Promotion Status</th>\n",
       "    </tr>\n",
       "  </thead>\n",
       "  <tbody>\n",
       "    <tr>\n",
       "      <th>0</th>\n",
       "      <td>1</td>\n",
       "      <td>28</td>\n",
       "      <td>Male</td>\n",
       "      <td>IT</td>\n",
       "      <td>70000</td>\n",
       "      <td>3</td>\n",
       "      <td>40</td>\n",
       "      <td>5</td>\n",
       "      <td>7</td>\n",
       "      <td>20</td>\n",
       "      <td>No</td>\n",
       "    </tr>\n",
       "    <tr>\n",
       "      <th>1</th>\n",
       "      <td>2</td>\n",
       "      <td>35</td>\n",
       "      <td>Female</td>\n",
       "      <td>HR</td>\n",
       "      <td>60000</td>\n",
       "      <td>7</td>\n",
       "      <td>38</td>\n",
       "      <td>4</td>\n",
       "      <td>8</td>\n",
       "      <td>15</td>\n",
       "      <td>Yes</td>\n",
       "    </tr>\n",
       "    <tr>\n",
       "      <th>2</th>\n",
       "      <td>3</td>\n",
       "      <td>42</td>\n",
       "      <td>Male</td>\n",
       "      <td>Finance</td>\n",
       "      <td>90000</td>\n",
       "      <td>12</td>\n",
       "      <td>45</td>\n",
       "      <td>6</td>\n",
       "      <td>6</td>\n",
       "      <td>18</td>\n",
       "      <td>Yes</td>\n",
       "    </tr>\n",
       "    <tr>\n",
       "      <th>3</th>\n",
       "      <td>4</td>\n",
       "      <td>30</td>\n",
       "      <td>Female</td>\n",
       "      <td>Marketing</td>\n",
       "      <td>65000</td>\n",
       "      <td>5</td>\n",
       "      <td>42</td>\n",
       "      <td>7</td>\n",
       "      <td>9</td>\n",
       "      <td>25</td>\n",
       "      <td>No</td>\n",
       "    </tr>\n",
       "    <tr>\n",
       "      <th>4</th>\n",
       "      <td>5</td>\n",
       "      <td>50</td>\n",
       "      <td>Male</td>\n",
       "      <td>Sales</td>\n",
       "      <td>85000</td>\n",
       "      <td>15</td>\n",
       "      <td>50</td>\n",
       "      <td>8</td>\n",
       "      <td>5</td>\n",
       "      <td>12</td>\n",
       "      <td>Yes</td>\n",
       "    </tr>\n",
       "  </tbody>\n",
       "</table>\n",
       "</div>"
      ],
      "text/plain": [
       "   ID  Age  Gender Department  Salary ($)  Experience (Years)  \\\n",
       "0   1   28    Male         IT       70000                   3   \n",
       "1   2   35  Female         HR       60000                   7   \n",
       "2   3   42    Male    Finance       90000                  12   \n",
       "3   4   30  Female  Marketing       65000                   5   \n",
       "4   5   50    Male      Sales       85000                  15   \n",
       "\n",
       "   Work Hours/Week  Projects Completed  Job Satisfaction (1-10)  \\\n",
       "0               40                   5                        7   \n",
       "1               38                   4                        8   \n",
       "2               45                   6                        6   \n",
       "3               42                   7                        9   \n",
       "4               50                   8                        5   \n",
       "\n",
       "   Training Hours Promotion Status  \n",
       "0              20               No  \n",
       "1              15              Yes  \n",
       "2              18              Yes  \n",
       "3              25               No  \n",
       "4              12              Yes  "
      ]
     },
     "execution_count": 1,
     "metadata": {},
     "output_type": "execute_result"
    }
   ],
   "source": [
    "import pandas as pd\n",
    "import matplotlib.pyplot as plt\n",
    "\n",
    "df = pd.read_csv(\"employee_dataset.csv\")\n",
    "df.head()\n"
   ]
  },
  {
   "cell_type": "code",
   "execution_count": 7,
   "metadata": {},
   "outputs": [
    {
     "data": {
      "text/plain": [
       "(10, 11)"
      ]
     },
     "execution_count": 7,
     "metadata": {},
     "output_type": "execute_result"
    }
   ],
   "source": [
    "\n",
    "# total no of rows and columns\n",
    "df.shape\n",
    "\n"
   ]
  },
  {
   "cell_type": "code",
   "execution_count": 8,
   "metadata": {},
   "outputs": [
    {
     "data": {
      "text/html": [
       "<div>\n",
       "<style scoped>\n",
       "    .dataframe tbody tr th:only-of-type {\n",
       "        vertical-align: middle;\n",
       "    }\n",
       "\n",
       "    .dataframe tbody tr th {\n",
       "        vertical-align: top;\n",
       "    }\n",
       "\n",
       "    .dataframe thead th {\n",
       "        text-align: right;\n",
       "    }\n",
       "</style>\n",
       "<table border=\"1\" class=\"dataframe\">\n",
       "  <thead>\n",
       "    <tr style=\"text-align: right;\">\n",
       "      <th></th>\n",
       "      <th>ID</th>\n",
       "      <th>Age</th>\n",
       "      <th>Salary ($)</th>\n",
       "      <th>Experience (Years)</th>\n",
       "      <th>Work Hours/Week</th>\n",
       "      <th>Projects Completed</th>\n",
       "      <th>Job Satisfaction (1-10)</th>\n",
       "      <th>Training Hours</th>\n",
       "    </tr>\n",
       "  </thead>\n",
       "  <tbody>\n",
       "    <tr>\n",
       "      <th>count</th>\n",
       "      <td>10.00000</td>\n",
       "      <td>10.000000</td>\n",
       "      <td>10.000000</td>\n",
       "      <td>10.000000</td>\n",
       "      <td>10.000000</td>\n",
       "      <td>10.000000</td>\n",
       "      <td>10.00000</td>\n",
       "      <td>10.000000</td>\n",
       "    </tr>\n",
       "    <tr>\n",
       "      <th>mean</th>\n",
       "      <td>5.50000</td>\n",
       "      <td>37.200000</td>\n",
       "      <td>74900.000000</td>\n",
       "      <td>8.600000</td>\n",
       "      <td>42.400000</td>\n",
       "      <td>6.300000</td>\n",
       "      <td>6.90000</td>\n",
       "      <td>18.100000</td>\n",
       "    </tr>\n",
       "    <tr>\n",
       "      <th>std</th>\n",
       "      <td>3.02765</td>\n",
       "      <td>7.390685</td>\n",
       "      <td>11647.126493</td>\n",
       "      <td>4.247875</td>\n",
       "      <td>4.299871</td>\n",
       "      <td>1.494434</td>\n",
       "      <td>1.37032</td>\n",
       "      <td>3.928528</td>\n",
       "    </tr>\n",
       "    <tr>\n",
       "      <th>min</th>\n",
       "      <td>1.00000</td>\n",
       "      <td>28.000000</td>\n",
       "      <td>60000.000000</td>\n",
       "      <td>3.000000</td>\n",
       "      <td>37.000000</td>\n",
       "      <td>4.000000</td>\n",
       "      <td>5.00000</td>\n",
       "      <td>12.000000</td>\n",
       "    </tr>\n",
       "    <tr>\n",
       "      <th>25%</th>\n",
       "      <td>3.25000</td>\n",
       "      <td>30.750000</td>\n",
       "      <td>65500.000000</td>\n",
       "      <td>5.250000</td>\n",
       "      <td>39.250000</td>\n",
       "      <td>5.250000</td>\n",
       "      <td>6.00000</td>\n",
       "      <td>15.250000</td>\n",
       "    </tr>\n",
       "    <tr>\n",
       "      <th>50%</th>\n",
       "      <td>5.50000</td>\n",
       "      <td>37.000000</td>\n",
       "      <td>72500.000000</td>\n",
       "      <td>8.000000</td>\n",
       "      <td>41.500000</td>\n",
       "      <td>6.000000</td>\n",
       "      <td>7.00000</td>\n",
       "      <td>18.500000</td>\n",
       "    </tr>\n",
       "    <tr>\n",
       "      <th>75%</th>\n",
       "      <td>7.75000</td>\n",
       "      <td>41.750000</td>\n",
       "      <td>86500.000000</td>\n",
       "      <td>11.750000</td>\n",
       "      <td>44.750000</td>\n",
       "      <td>7.000000</td>\n",
       "      <td>8.00000</td>\n",
       "      <td>20.000000</td>\n",
       "    </tr>\n",
       "    <tr>\n",
       "      <th>max</th>\n",
       "      <td>10.00000</td>\n",
       "      <td>50.000000</td>\n",
       "      <td>90000.000000</td>\n",
       "      <td>15.000000</td>\n",
       "      <td>50.000000</td>\n",
       "      <td>9.000000</td>\n",
       "      <td>9.00000</td>\n",
       "      <td>25.000000</td>\n",
       "    </tr>\n",
       "  </tbody>\n",
       "</table>\n",
       "</div>"
      ],
      "text/plain": [
       "             ID        Age    Salary ($)  Experience (Years)  Work Hours/Week  \\\n",
       "count  10.00000  10.000000     10.000000           10.000000        10.000000   \n",
       "mean    5.50000  37.200000  74900.000000            8.600000        42.400000   \n",
       "std     3.02765   7.390685  11647.126493            4.247875         4.299871   \n",
       "min     1.00000  28.000000  60000.000000            3.000000        37.000000   \n",
       "25%     3.25000  30.750000  65500.000000            5.250000        39.250000   \n",
       "50%     5.50000  37.000000  72500.000000            8.000000        41.500000   \n",
       "75%     7.75000  41.750000  86500.000000           11.750000        44.750000   \n",
       "max    10.00000  50.000000  90000.000000           15.000000        50.000000   \n",
       "\n",
       "       Projects Completed  Job Satisfaction (1-10)  Training Hours  \n",
       "count           10.000000                 10.00000       10.000000  \n",
       "mean             6.300000                  6.90000       18.100000  \n",
       "std              1.494434                  1.37032        3.928528  \n",
       "min              4.000000                  5.00000       12.000000  \n",
       "25%              5.250000                  6.00000       15.250000  \n",
       "50%              6.000000                  7.00000       18.500000  \n",
       "75%              7.000000                  8.00000       20.000000  \n",
       "max              9.000000                  9.00000       25.000000  "
      ]
     },
     "execution_count": 8,
     "metadata": {},
     "output_type": "execute_result"
    }
   ],
   "source": [
    "\n",
    "# summary statistics\n",
    "df.describe()\n"
   ]
  },
  {
   "cell_type": "code",
   "execution_count": 9,
   "metadata": {},
   "outputs": [
    {
     "name": "stdout",
     "output_type": "stream",
     "text": [
      "5\n",
      "2\n"
     ]
    }
   ],
   "source": [
    "\n",
    "# count distinct values in \"Department\" and \"Promotion State\"\n",
    "print(df['Department'].nunique())\n",
    "print(df['Promotion Status'].nunique())\n"
   ]
  },
  {
   "cell_type": "code",
   "execution_count": 10,
   "metadata": {},
   "outputs": [
    {
     "data": {
      "text/plain": [
       "ID                         0\n",
       "Age                        0\n",
       "Gender                     0\n",
       "Department                 0\n",
       "Salary ($)                 0\n",
       "Experience (Years)         0\n",
       "Work Hours/Week            0\n",
       "Projects Completed         0\n",
       "Job Satisfaction (1-10)    0\n",
       "Training Hours             0\n",
       "Promotion Status           0\n",
       "dtype: int64"
      ]
     },
     "execution_count": 10,
     "metadata": {},
     "output_type": "execute_result"
    }
   ],
   "source": [
    "\n",
    "# checking for missing values\n",
    "df.isna().sum()\n"
   ]
  },
  {
   "cell_type": "code",
   "execution_count": 11,
   "metadata": {},
   "outputs": [],
   "source": [
    "\n",
    "# if there are missing values, handling them\n",
    "categorical_data = ['Gender','Department', 'Promotion Status']\n",
    "numerical_data = ['ID','Age', 'Experience (Years)','Salary ($)', 'Work Hours/Week', 'Projects Completed', 'Job Satisfaction (1-10)','Training Hours']\n",
    "\n",
    "for col in categorical_data:\n",
    "    mode = df[col].mode()[0]\n",
    "    df[col] = df[col].fillna(mode)\n",
    "\n",
    "for col in numerical_data:\n",
    "    mean = df[col].mean()\n",
    "    df[col] = df[col].fillna(mean)\n"
   ]
  },
  {
   "cell_type": "code",
   "execution_count": 12,
   "metadata": {},
   "outputs": [
    {
     "data": {
      "image/png": "[encoded data removed]",
      "text/plain": [
       "<Figure size 640x480 with 1 Axes>"
      ]
     },
     "metadata": {},
     "output_type": "display_data"
    }
   ],
   "source": [
    "\n",
    "# histogram of salaries\n",
    "plt.hist(df['Salary ($)'])\n",
    "plt.show()\n"
   ]
  },
  {
   "cell_type": "code",
   "execution_count": 13,
   "metadata": {},
   "outputs": [
    {
     "data": {
      "image/png": "[encoded data removed]",
      "text/plain": [
       "<Figure size 640x480 with 1 Axes>"
      ]
     },
     "metadata": {},
     "output_type": "display_data"
    }
   ],
   "source": [
    "\n",
    "# bar graph of no of employee in each Department\n",
    "plt.bar(df['Department'], df['ID'])\n",
    "plt.show()\n"
   ]
  },
  {
   "cell_type": "code",
   "execution_count": 14,
   "metadata": {},
   "outputs": [
    {
     "data": {
      "image/png": "[encoded data removed]",
      "text/plain": [
       "<Figure size 640x480 with 1 Axes>"
      ]
     },
     "metadata": {},
     "output_type": "display_data"
    }
   ],
   "source": [
    "\n",
    "\n",
    "# box plot for Experience (Years) \n",
    "plt.boxplot(df['Experience (Years)'])\n",
    "plt.show()\n",
    "\n"
   ]
  },
  {
   "cell_type": "code",
   "execution_count": null,
   "metadata": {},
   "outputs": [],
   "source": []
  }
 ],
 "metadata": {
  "kernelspec": {
   "display_name": "Python 3",
   "language": "python",
   "name": "python3"
  },
  "language_info": {
   "codemirror_mode": {
    "name": "ipython",
    "version": 3
   },
   "file_extension": ".py",
   "mimetype": "text/x-python",
   "name": "python",
   "nbconvert_exporter": "python",
   "pygments_lexer": "ipython3",
   "version": "3.12.4"
  }
 },
 "nbformat": 4,
 "nbformat_minor": 2
}
